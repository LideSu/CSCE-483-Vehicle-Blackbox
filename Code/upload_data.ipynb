{
 "cells": [
  {
   "cell_type": "code",
   "execution_count": 36,
   "metadata": {},
   "outputs": [],
   "source": [
    "import sys\n",
    "import pandas as pd\n",
    "import numpy as np\n",
    "import os\n",
    "import matplotlib.pyplot as plt\n",
    "import boto3\n",
    "import time\n",
    "import datetime\n",
    "import math\n",
    "import decimal\n",
    "import json\n",
    "from boto3.dynamodb.conditions import Key, Attr\n",
    "from utilities import *"
   ]
  },
  {
   "cell_type": "code",
   "execution_count": 37,
   "metadata": {},
   "outputs": [
    {
     "name": "stdout",
     "output_type": "stream",
     "text": [
      "2022-03-24 18:08:20.240000-05:00\n"
     ]
    }
   ],
   "source": [
    "# accessing Amazon Dynamodb\n",
    "dynamodb = boto3.resource('dynamodb')\n",
    "\n",
    "# getting access to DataSummary table\n",
    "vehicle_data_table = dynamodb.Table('vehicle_data')\n",
    "\n",
    "print(vehicle_data_table.creation_date_time) # test if connected to the database"
   ]
  },
  {
   "cell_type": "code",
   "execution_count": 38,
   "metadata": {},
   "outputs": [],
   "source": [
    "raw_data = pd.read_csv(\"../data/test1.csv\")"
   ]
  },
  {
   "cell_type": "code",
   "execution_count": 39,
   "metadata": {},
   "outputs": [
    {
     "data": {
      "text/plain": [
       "int"
      ]
     },
     "execution_count": 39,
     "metadata": {},
     "output_type": "execute_result"
    }
   ],
   "source": [
    "type(raw_data['trip'][1].item())\n",
    "# localtime = time.localtime(time.time())\n",
    "# localtime"
   ]
  },
  {
   "cell_type": "code",
   "execution_count": 40,
   "metadata": {},
   "outputs": [],
   "source": [
    "for i in range(raw_data.trip.size):\n",
    "    vehicle_data_table.put_item(\n",
    "        ##### Change the table name here if necessary #####\n",
    "        TableName = \"vehicle_data\",\n",
    "        Item = {\n",
    "            \"trip\": raw_data.trip[i].item(),\n",
    "            \"tm\": raw_data.tm[i].item(),\n",
    "            'rpm': raw_data.rpm[i].item(),\n",
    "            'speed': raw_data.speed[i].item(),\n",
    "            'throttle_pos': raw_data.throttle_pos[i].item(),\n",
    "            'acc_x': raw_data.acc_x[i].item(),\n",
    "            'acc_y': raw_data.acc_y[i].item(),\n",
    "            'acc_z': raw_data.acc_z[i].item(),\n",
    "            'gyro_x': raw_data.gyro_x[i].item(),\n",
    "            'gyro_y': raw_data.gyro_y[i].item(),\n",
    "            'gyro_z': raw_data.gyro_z[i].item(),\n",
    "        }\n",
    "    )"
   ]
  },
  {
   "cell_type": "code",
   "execution_count": null,
   "metadata": {},
   "outputs": [],
   "source": []
  }
 ],
 "metadata": {
  "interpreter": {
   "hash": "a665b5d41d17b532ea9890333293a1b812fa0b73c9c25c950b3cedf1bebd0438"
  },
  "kernelspec": {
   "display_name": "Python 3.9.8 64-bit",
   "language": "python",
   "name": "python3"
  },
  "language_info": {
   "codemirror_mode": {
    "name": "ipython",
    "version": 3
   },
   "file_extension": ".py",
   "mimetype": "text/x-python",
   "name": "python",
   "nbconvert_exporter": "python",
   "pygments_lexer": "ipython3",
   "version": "3.9.8"
  },
  "orig_nbformat": 4
 },
 "nbformat": 4,
 "nbformat_minor": 2
}
