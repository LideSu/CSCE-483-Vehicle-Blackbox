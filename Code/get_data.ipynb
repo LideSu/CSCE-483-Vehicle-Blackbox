{
 "cells": [
  {
   "cell_type": "code",
   "execution_count": 1,
   "metadata": {},
   "outputs": [],
   "source": [
    "import sys\n",
    "import json\n",
    "import pandas as pd\n",
    "import numpy as np\n",
    "import os\n",
    "import boto3\n",
    "from decimal import Decimal\n",
    "from math import pi\n",
    "\n",
    "ExpressionAttributeNames = {\n",
    "    \"#TRP\": \"trip\",\n",
    "    \"#TM\": \"tm\",\n",
    "    \"#RPM\": \"rpm\",\n",
    "    \"#SPD\": \"speed\",\n",
    "    \"#THRTL\": \"throttle_pos\",\n",
    "    \"#ACC_X\": \"acc_x\",\n",
    "    \"#ACC_Y\": \"acc_y\",\n",
    "    \"#ACC_Z\": \"acc_z\",\n",
    "    \"#GYRO_X\": \"gyro_x\",\n",
    "    \"#GYRO_Y\": \"gyro_y\",\n",
    "    \"#GYRO_Z\": \"gyro_z\",\n",
    "}\n",
    "\n",
    "ProjectionExpression = \"#TRP, #TM, #RPM, #SPD, #THRTL, #ACC_X, #ACC_Y, #ACC_Z, #GYRO_X, #GYRO_Y, #GYRO_Z\"\n",
    "\n",
    "# Returns a processed dataframe that contains the information needed for the heatmap\n",
    "# :return: a pandas DataFrame that contains the information needed for the heatmap\n",
    "def get_data(event):\n",
    "    dynamodb = boto3.resource('dynamodb')\n",
    "    table = dynamodb.Table('vehicle_data')\n",
    "    trip_id = event[\"trip_id\"]\n",
    "        \n",
    "    response = table.scan(ExpressionAttributeNames = ExpressionAttributeNames, ProjectionExpression = ProjectionExpression)\n",
    "    data = pd.DataFrame.from_dict(response['Items'])\n",
    "\n",
    "    return data[data[\"trip\"] == trip_id]\n",
    "\n"
   ]
  },
  {
   "cell_type": "code",
   "execution_count": 2,
   "metadata": {},
   "outputs": [],
   "source": [
    "def lambda_handler(event, context):\n",
    "    data = get_data(event)\n",
    "    avg_v = data.speed.mean()\n",
    "    avg_a = np.sqrt(data.acc_x.mean() ** 2 + data.acc_y.mean() ** 2 + data.acc_z.mean() ** 2)\n",
    "    trip_tm = data.tm.iloc[-1] - data.tm.iloc[0]\n",
    "    avg_rpm = data.rpm.mean()\n",
    "    time = json.dumps(list(data.tm.astype(float)))\n",
    "    speed = json.dumps(list(data.speed.astype(float)))\n",
    "    throttle_pos = json.dumps(list(data.throttle_pos.astype(float)))\n",
    "\n",
    "\n",
    "    return {\n",
    "        'statusCode': 200,\n",
    "        'headers': {'Content-Type': 'application/json', 'Access-Control-Allow-Origin': '*', 'Access-Control-Allow-Headers': 'Access-Control-Allow-Origin'},\n",
    "        'body': {\"average_speed\": json.dumps(avg_v), \"average_acceleration\": json.dumps(avg_a), \n",
    "        \"average_rpm\": json.dumps(float(avg_rpm)), \"trip_time\": json.dumps(float(trip_tm)), \"time\": time, \"speed\":speed, \"throttle_position\":throttle_pos\n",
    "        }\n",
    "    }\n"
   ]
  },
  {
   "cell_type": "code",
   "execution_count": 3,
   "metadata": {},
   "outputs": [
    {
     "data": {
      "text/plain": [
       "{'statusCode': 200,\n",
       " 'headers': {'Content-Type': 'application/json',\n",
       "  'Access-Control-Allow-Origin': '*',\n",
       "  'Access-Control-Allow-Headers': 'Access-Control-Allow-Origin'},\n",
       " 'body': {'average_speed': '93.26086956521739',\n",
       "  'average_acceleration': '16.209579654938373',\n",
       "  'average_rpm': '5469.391304347826',\n",
       "  'trip_time': '22.0',\n",
       "  'time': '[1648162242.0, 1648162243.0, 1648162244.0, 1648162245.0, 1648162246.0, 1648162247.0, 1648162248.0, 1648162249.0, 1648162250.0, 1648162251.0, 1648162252.0, 1648162253.0, 1648162254.0, 1648162255.0, 1648162256.0, 1648162257.0, 1648162258.0, 1648162259.0, 1648162260.0, 1648162261.0, 1648162262.0, 1648162263.0, 1648162264.0]',\n",
       "  'speed': '[129.0, 85.0, 43.0, 105.0, 148.0, 117.0, 135.0, 19.0, 71.0, 133.0, 3.0, 124.0, 70.0, 116.0, 116.0, 143.0, 95.0, 68.0, 64.0, 120.0, 42.0, 147.0, 52.0]',\n",
       "  'throttle_position': '[87.0, 98.0, 10.0, 59.0, 18.0, 6.0, 67.0, 28.0, 93.0, 19.0, 62.0, 27.0, 12.0, 56.0, 21.0, 89.0, 16.0, 21.0, 74.0, 44.0, 78.0, 80.0, 67.0]'}}"
      ]
     },
     "execution_count": 3,
     "metadata": {},
     "output_type": "execute_result"
    }
   ],
   "source": [
    "lambda_handler(event = {'trip_id':1}, context = 0)"
   ]
  },
  {
   "cell_type": "code",
   "execution_count": 7,
   "metadata": {},
   "outputs": [
    {
     "name": "stdout",
     "output_type": "stream",
     "text": [
      "{'statusCode': 200, 'headers': {'Content-Type': 'application/json', 'Access-Control-Allow-Origin': '*', 'Access-Control-Allow-Headers': 'Access-Control-Allow-Origin'}, 'body': {'average_speed': '86.375', 'average_acceleration': '29.673286070976367', 'average_rpm': '4984.75', 'trip_time': '15.0', 'time': '[1648162265.0, 1648162266.0, 1648162267.0, 1648162268.0, 1648162269.0, 1648162270.0, 1648162271.0, 1648162272.0, 1648162273.0, 1648162274.0, 1648162275.0, 1648162276.0, 1648162277.0, 1648162278.0, 1648162279.0, 1648162280.0]', 'speed': '[70.0, 34.0, 44.0, 117.0, 56.0, 27.0, 119.0, 66.0, 42.0, 128.0, 128.0, 139.0, 71.0, 48.0, 150.0, 143.0]', 'throttle_position': '[68.0, 68.0, 92.0, 67.0, 69.0, 0.0, 66.0, 16.0, 94.0, 87.0, 24.0, 21.0, 62.0, 49.0, 49.0, 66.0]'}}\n"
     ]
    },
    {
     "data": {
      "text/plain": [
       "<Response [200]>"
      ]
     },
     "execution_count": 7,
     "metadata": {},
     "output_type": "execute_result"
    }
   ],
   "source": [
    "import requests\n",
    "# myHeaders = {\"Content-Type\", \"application/json\"}\n",
    "# response = requests.get(\"https://7m3q3dqm4g.execute-api.us-east-1.amazonaws.com/dev\", headers=myHeaders)\n",
    "# print(response)\n",
    "\n",
    "headers = {}\n",
    "url = \"https://7m3q3dqm4g.execute-api.us-east-1.amazonaws.com/dev\"\n",
    "method = 'POST'\n",
    "redirect = 'follow'\n",
    "body={\"trip_id\": 2}\n",
    "\n",
    "\n",
    "response = requests.request(method=method, url=url, data = json.dumps(body), headers=headers)\n",
    "print(json.loads(response.text))\n",
    "response"
   ]
  }
 ],
 "metadata": {
  "interpreter": {
   "hash": "a665b5d41d17b532ea9890333293a1b812fa0b73c9c25c950b3cedf1bebd0438"
  },
  "kernelspec": {
   "display_name": "Python 3.9.8 64-bit",
   "language": "python",
   "name": "python3"
  },
  "language_info": {
   "codemirror_mode": {
    "name": "ipython",
    "version": 3
   },
   "file_extension": ".py",
   "mimetype": "text/x-python",
   "name": "python",
   "nbconvert_exporter": "python",
   "pygments_lexer": "ipython3",
   "version": "3.9.8"
  },
  "orig_nbformat": 4
 },
 "nbformat": 4,
 "nbformat_minor": 2
}
